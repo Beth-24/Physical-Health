{
 "cells": [
  {
   "cell_type": "code",
   "execution_count": 1,
   "id": "a10cf432-5698-40f2-a0df-3a1b871665d9",
   "metadata": {},
   "outputs": [],
   "source": [
    "import os\n",
    "import pandas as pd"
   ]
  },
  {
   "cell_type": "code",
   "execution_count": 2,
   "id": "adb925d9-a771-47af-9a01-f3561df93cfe",
   "metadata": {},
   "outputs": [],
   "source": [
    "fileLocation = r'Jose Health'\n",
    "\n",
    "for filename in os.listdir(fileLocation):\n",
    "    splitArray = filename.split(\".\")\n",
    "    finalArray = splitArray[3:(len(splitArray)-2)]\n",
    "    formattedString = (\"_\".join(finalArray))\n",
    "\n",
    "    # RENAME EVERY FILE BASED OF FORMATTED STRING\n",
    "    os.rename(fileLocation+'\\\\'+filename, formattedString+'.csv')"
   ]
  },
  {
   "cell_type": "code",
   "execution_count": 27,
   "id": "774cbbca-31b0-4ee6-af9c-63cfa8d32b85",
   "metadata": {},
   "outputs": [],
   "source": [
    "fileLocation = r'Jose''s Health Formatted'\n",
    "\n",
    "for filename in os.listdir(fileLocation):\n",
    "    # OPEN EACH FILE AND REMOVE FIRST ROW\n",
    "    fileLocationFinal = fileLocation+'\\\\'+filename\n",
    "    df = pd.read_csv(fileLocationFinal,skiprows=[0])\n",
    "    \n",
    "    # SAVE DF TO NEW CSV FILE\n",
    "    formatPath = r\"Jose's Health Formatted\"\n",
    "    df.to_csv((formatPath+'\\\\'+filename), encoding='utf-8', index=False)\n"
   ]
  },
  {
   "cell_type": "code",
   "execution_count": 28,
   "id": "fef05771-372b-46c6-94d6-b42abbd8c43d",
   "metadata": {},
   "outputs": [
    {
     "data": {
      "text/html": [
       "<div>\n",
       "<style scoped>\n",
       "    .dataframe tbody tr th:only-of-type {\n",
       "        vertical-align: middle;\n",
       "    }\n",
       "\n",
       "    .dataframe tbody tr th {\n",
       "        vertical-align: top;\n",
       "    }\n",
       "\n",
       "    .dataframe thead th {\n",
       "        text-align: right;\n",
       "    }\n",
       "</style>\n",
       "<table border=\"1\" class=\"dataframe\">\n",
       "  <thead>\n",
       "    <tr style=\"text-align: right;\">\n",
       "      <th></th>\n",
       "      <th>update_time</th>\n",
       "      <th>create_time</th>\n",
       "      <th>body</th>\n",
       "      <th>pcid</th>\n",
       "      <th>type</th>\n",
       "      <th>deviceuuid</th>\n",
       "      <th>pkg_name</th>\n",
       "      <th>last_sync_time</th>\n",
       "      <th>datauuid</th>\n",
       "    </tr>\n",
       "  </thead>\n",
       "  <tbody>\n",
       "    <tr>\n",
       "      <th>0</th>\n",
       "      <td>2023-04-02 04:40:59.646</td>\n",
       "      <td>087b0abd-7622-4d21-951c-d68d5f99b1fe.body.json</td>\n",
       "      <td>23040001</td>\n",
       "      <td>0</td>\n",
       "      <td>zU3TqJ4yDC</td>\n",
       "      <td>com.sec.android.app.shealth</td>\n",
       "      <td>1682965442058</td>\n",
       "      <td>087b0abd-7622-4d21-951c-d68d5f99b1fe</td>\n",
       "      <td>NaN</td>\n",
       "    </tr>\n",
       "    <tr>\n",
       "      <th>1</th>\n",
       "      <td>2023-05-01 18:21:40.622</td>\n",
       "      <td>fe0a7d0c-ad22-4286-8a2f-86787bd018d1.body.json</td>\n",
       "      <td>23050001</td>\n",
       "      <td>0</td>\n",
       "      <td>zU3TqJ4yDC</td>\n",
       "      <td>com.sec.android.app.shealth</td>\n",
       "      <td>1683243790636</td>\n",
       "      <td>fe0a7d0c-ad22-4286-8a2f-86787bd018d1</td>\n",
       "      <td>NaN</td>\n",
       "    </tr>\n",
       "    <tr>\n",
       "      <th>2</th>\n",
       "      <td>2023-05-01 18:22:51.621</td>\n",
       "      <td>51401312-f0a3-4764-af2b-72d81b6ff499.body.json</td>\n",
       "      <td>23050001</td>\n",
       "      <td>1</td>\n",
       "      <td>zU3TqJ4yDC</td>\n",
       "      <td>com.sec.android.app.shealth</td>\n",
       "      <td>1682965400224</td>\n",
       "      <td>51401312-f0a3-4764-af2b-72d81b6ff499</td>\n",
       "      <td>NaN</td>\n",
       "    </tr>\n",
       "    <tr>\n",
       "      <th>3</th>\n",
       "      <td>2023-04-07 14:16:35.361</td>\n",
       "      <td>221ea0b2-4af8-45b4-855b-a9930c2665f6.body.json</td>\n",
       "      <td>23040001</td>\n",
       "      <td>1</td>\n",
       "      <td>zU3TqJ4yDC</td>\n",
       "      <td>com.sec.android.app.shealth</td>\n",
       "      <td>1680876995346</td>\n",
       "      <td>221ea0b2-4af8-45b4-855b-a9930c2665f6</td>\n",
       "      <td>NaN</td>\n",
       "    </tr>\n",
       "  </tbody>\n",
       "</table>\n",
       "</div>"
      ],
      "text/plain": [
       "               update_time                                     create_time   \n",
       "0  2023-04-02 04:40:59.646  087b0abd-7622-4d21-951c-d68d5f99b1fe.body.json  \\\n",
       "1  2023-05-01 18:21:40.622  fe0a7d0c-ad22-4286-8a2f-86787bd018d1.body.json   \n",
       "2  2023-05-01 18:22:51.621  51401312-f0a3-4764-af2b-72d81b6ff499.body.json   \n",
       "3  2023-04-07 14:16:35.361  221ea0b2-4af8-45b4-855b-a9930c2665f6.body.json   \n",
       "\n",
       "       body  pcid        type                   deviceuuid       pkg_name   \n",
       "0  23040001     0  zU3TqJ4yDC  com.sec.android.app.shealth  1682965442058  \\\n",
       "1  23050001     0  zU3TqJ4yDC  com.sec.android.app.shealth  1683243790636   \n",
       "2  23050001     1  zU3TqJ4yDC  com.sec.android.app.shealth  1682965400224   \n",
       "3  23040001     1  zU3TqJ4yDC  com.sec.android.app.shealth  1680876995346   \n",
       "\n",
       "                         last_sync_time  datauuid  \n",
       "0  087b0abd-7622-4d21-951c-d68d5f99b1fe       NaN  \n",
       "1  fe0a7d0c-ad22-4286-8a2f-86787bd018d1       NaN  \n",
       "2  51401312-f0a3-4764-af2b-72d81b6ff499       NaN  \n",
       "3  221ea0b2-4af8-45b4-855b-a9930c2665f6       NaN  "
      ]
     },
     "execution_count": 28,
     "metadata": {},
     "output_type": "execute_result"
    }
   ],
   "source": [
    "df = pd.read_csv(r'formattedExcels/social_public_challenge_leaderboard.csv')\n",
    "df.head(5)"
   ]
  },
  {
   "cell_type": "code",
   "execution_count": null,
   "id": "745f1681-b2f2-4aed-aed0-8e2839669d5f",
   "metadata": {},
   "outputs": [],
   "source": []
  }
 ],
 "metadata": {
  "kernelspec": {
   "display_name": "Python 3 (ipykernel)",
   "language": "python",
   "name": "python3"
  },
  "language_info": {
   "codemirror_mode": {
    "name": "ipython",
    "version": 3
   },
   "file_extension": ".py",
   "mimetype": "text/x-python",
   "name": "python",
   "nbconvert_exporter": "python",
   "pygments_lexer": "ipython3",
   "version": "3.9.4"
  }
 },
 "nbformat": 4,
 "nbformat_minor": 5
}
